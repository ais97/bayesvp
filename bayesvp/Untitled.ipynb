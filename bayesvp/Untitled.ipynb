{
 "cells": [
  {
   "cell_type": "code",
   "execution_count": null,
   "metadata": {},
   "outputs": [],
   "source": []
  },
  {
   "cell_type": "markdown",
   "metadata": {},
   "source": [
    "# BayesVP Tutorial\n",
    "\n",
    "**Step 1: Download BayesVP**\n",
    "\n",
    "Enter the following in the terminal in the directory you wish to install BayesVP\n",
    "\n",
    "    git clone https://github.com/ais97/bayesvp.git\n",
    "    \n",
    "**Step 2: Install BayesVP to use from any directory**\n",
    "\n",
    "Run setup.py\n",
    "    \n",
    "    python3 /path/to/bayesvp/setup.py develop \n",
    "    \n",
    "**OR**\n",
    "    \n",
    "You may have to use the sudo command and use only \"python\"\n",
    "\n",
    "    sudo python /path/to/bayesvp/setup.py develop\n",
    "\n",
    "Now you are all set to use BayesVP!\n",
    "\n",
    "**Step 3: Test if the codes are working**\n",
    "You can remove the \"example\" folder and save it in another directory.\n",
    "(The best way is not to have the bayesvp path and your output paths as same)\n",
    "Open bayesvp_try.py with your favourite Python editor and run all the imports\n",
    "\n",
    "1. To make new config files, run only lines 24 and 25. This should ask you for inputs like this:\n",
    "        \n",
    "        >>>config = wc.WriteBayesVPConfig()\n",
    "        >>>config.print_to_file(interactive_write=(True))\n",
    "        Path to spectrum:\n",
    "        /path/to/your/spectrum/\n",
    "        Spectrum filename: OVI.spec\n",
    "        filename for output chain: o6\n",
    "        atom: O\n",
    "        state: VI\n",
    "        Maximum number of components to try: 1\n",
    "        Starting wavelength(A): 1030\n",
    "        Ending wavelength(A): 1033\n",
    "        Enter the priors:\n",
    "        min logN [cmˆ-2] = 10\n",
    "        max logN [cmˆ-2] = 18\n",
    "        min b [km/s] = 0\n",
    "        max b [km/s] = 100\n",
    "        central redshift = 0\n",
    "        velocity range [km/s] = 300\n",
    "        Enter the MCMC parameters:\n",
    "        Number of walkers: 400\n",
    "        Number of steps: 2000\n",
    "        Number of processes: 8\n",
    "        Model selection method bic(default),aic,bf: bic\n",
    "        MCMC sampler kombine(default), emcee: kombine\n",
    "\n",
    "2. "
   ]
  },
  {
   "cell_type": "markdown",
   "metadata": {},
   "source": []
  },
  {
   "cell_type": "markdown",
   "metadata": {},
   "source": [
    "    from bayesvp.scripts import bvp_write_config as wc\n",
    "    from bayesvp.scripts import bvp_process_model as pm\n",
    "    from bayesvp.scripts import bvpfit as fit\n",
    "    from bayesvp import config as conf\n",
    "    from bayesvp import utilities as util \n",
    "    from bayesvp import mcmc_setup as setup\n",
    "    from bayesvp.config import DefineParams as dp\n",
    "    import matplotlib.pyplot as plt\n",
    "\n",
    "\n",
    "    "
   ]
  }
 ],
 "metadata": {
  "kernelspec": {
   "display_name": "Python 3 (ipykernel)",
   "language": "python",
   "name": "python3"
  },
  "language_info": {
   "codemirror_mode": {
    "name": "ipython",
    "version": 3
   },
   "file_extension": ".py",
   "mimetype": "text/x-python",
   "name": "python",
   "nbconvert_exporter": "python",
   "pygments_lexer": "ipython3",
   "version": "3.8.10"
  }
 },
 "nbformat": 4,
 "nbformat_minor": 4
}
